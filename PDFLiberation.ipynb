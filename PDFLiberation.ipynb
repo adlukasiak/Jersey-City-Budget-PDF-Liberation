{
 "metadata": {
  "name": "PDFLiberation"
 },
 "nbformat": 3,
 "nbformat_minor": 0,
 "worksheets": [
  {
   "cells": [
    {
     "cell_type": "code",
     "collapsed": false,
     "input": [
      "#!/usr/bin/python\n",
      "import requests"
     ],
     "language": "python",
     "metadata": {},
     "outputs": []
    },
    {
     "cell_type": "code",
     "collapsed": false,
     "input": [
      "root_url = \"http://www.cityofjerseycity.com\"\n",
      "budget_url = root_url+\"/pub-info.aspx?id=2430\""
     ],
     "language": "python",
     "metadata": {},
     "outputs": []
    },
    {
     "cell_type": "code",
     "collapsed": false,
     "input": [
      "test = False"
     ],
     "language": "python",
     "metadata": {},
     "outputs": []
    },
    {
     "cell_type": "code",
     "collapsed": false,
     "input": [
      "page = requests.get(budget_url).content"
     ],
     "language": "python",
     "metadata": {},
     "outputs": []
    },
    {
     "cell_type": "code",
     "collapsed": false,
     "input": [
      "import re\n",
      "links = re.findall(r\"<a.*?\\s*href=\\\"(.*?)\\\".*?>(.*?)</a>\", page) "
     ],
     "language": "python",
     "metadata": {},
     "outputs": []
    },
    {
     "cell_type": "code",
     "collapsed": false,
     "input": [
      "#got all the links on the page, but need only CSV\n",
      "pdf_files = []\n",
      "\n",
      "dir_download = \"download/\"\n",
      "dir_ocr = \"ocr/\"\n",
      "\n",
      "for link in links: \n",
      "            if link[0].endswith(\".pdf\"):\n",
      "                pdf_file = link[0]\n",
      "                dataset_type = link[1]\n",
      "                local_file = dataset_type.replace(\" \",\"\")\n",
      "                local_file = local_file.replace(\"(\",\"\")\n",
      "                local_file = local_file.replace(\")\",\"\")\n",
      "                local_file = local_file.replace(\"<br/>\",\"\") + \".pdf\"\n",
      "                pdf_files.append( [root_url+pdf_file, pdf_file, dir_download+local_file,dir_ocr+local_file,dataset_type] )"
     ],
     "language": "python",
     "metadata": {},
     "outputs": []
    },
    {
     "cell_type": "code",
     "collapsed": false,
     "input": [
      "pdf_files_test = [[\n",
      "    'http://www.cityofjerseycity.com/uploadedFiles/Public_Information/2012%20Budget%20Amendment%20(2)%20Introduced.pdf',\n",
      "    '/uploadedFiles/Public_Information/2012%20Budget%20Amendment%20(2)%20Introduced.pdf',\n",
      "    'download/CY2012BudgetAmendmentIntroduced.pdf',\n",
      "    'ocr/CY2012BudgetAmendmentIntroduced.pdf',\n",
      "    'CY2012 Budget Amendment (Introduced)']]"
     ],
     "language": "python",
     "metadata": {},
     "outputs": []
    },
    {
     "cell_type": "code",
     "collapsed": false,
     "input": [
      "if test == True:\n",
      "    pdf_files = pdf_files_test"
     ],
     "language": "python",
     "metadata": {},
     "outputs": []
    },
    {
     "cell_type": "code",
     "collapsed": false,
     "input": [
      "#using curl for mac os \n",
      "import envoy\n",
      "\n",
      "for pdf_file in pdf_files:\n",
      "    print \"loading \", pdf_file[0], \" to \", pdf_file[2]\n",
      "    #r = envoy.run(\"curl -o \" + pdf_file[2] + \" \" + pdf_file[0])\n",
      "    print \"done...\""
     ],
     "language": "python",
     "metadata": {},
     "outputs": []
    },
    {
     "cell_type": "code",
     "collapsed": false,
     "input": [
      "#using python\n",
      "import urllib\n",
      "\n",
      "for pdf_file in pdf_files:\n",
      "    print \"loading \", pdf_file[0], \" to \", pdf_file[2]\n",
      "    r = urllib.urlretrieve(pdf_file[0], pdf_file[2])\n",
      "    print r\n",
      "    print \"done...\""
     ],
     "language": "python",
     "metadata": {},
     "outputs": []
    },
    {
     "cell_type": "code",
     "collapsed": false,
     "input": [
      "#this one works!!!\n",
      "#rr = envoy.run(\"./process.py budget_raw.pdf budget_raw_output_3.pdf -pdf\")"
     ],
     "language": "python",
     "metadata": {},
     "outputs": []
    },
    {
     "cell_type": "code",
     "collapsed": false,
     "input": [
      "#OCR with ABBYY\n",
      "import envoy\n",
      "for pdf_file in pdf_files:\n",
      "    cmd = \"./process.py \" + pdf_file[2] + \" \" + pdf_file[3] + \" -pdf\"\n",
      "    print cmd\n",
      "    rr = envoy.run(cmd)\n",
      "    print \"done...\""
     ],
     "language": "python",
     "metadata": {},
     "outputs": []
    },
    {
     "cell_type": "code",
     "collapsed": false,
     "input": [
      "from subprocess import Popen\n",
      "\n",
      "go = True\n",
      "\n",
      "for pdf_file in pdf_files:\n",
      "    if go == True:\n",
      "        cmd = \"./process.py \" + pdf_file[2] + \" \" + pdf_file[3] + \" -pdf\"\n",
      "        print cmd\n",
      "        p = Popen( [\"./process.py\",pdf_file[2],pdf_file[3], \" -pdf\"]) # something long running\n",
      "        p.wait()\n",
      "        #p.terminate()\n",
      "        print \"done...\"\n",
      "        go = False"
     ],
     "language": "python",
     "metadata": {},
     "outputs": []
    },
    {
     "cell_type": "code",
     "collapsed": false,
     "input": [],
     "language": "python",
     "metadata": {},
     "outputs": []
    }
   ],
   "metadata": {}
  }
 ]
}